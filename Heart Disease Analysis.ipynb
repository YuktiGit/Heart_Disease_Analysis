{
 "cells": [
  {
   "cell_type": "markdown",
   "id": "363d5e88",
   "metadata": {},
   "source": [
    "# HEART DISEASE ANALYSIS"
   ]
  },
  {
   "cell_type": "code",
   "execution_count": 3,
   "id": "c5fd2fc8",
   "metadata": {},
   "outputs": [
    {
     "data": {
      "text/html": [
       "        <script type=\"text/javascript\">\n",
       "        window.PlotlyConfig = {MathJaxConfig: 'local'};\n",
       "        if (window.MathJax) {MathJax.Hub.Config({SVG: {font: \"STIX-Web\"}});}\n",
       "        if (typeof require !== 'undefined') {\n",
       "        require.undef(\"plotly\");\n",
       "        requirejs.config({\n",
       "            paths: {\n",
       "                'plotly': ['https://cdn.plot.ly/plotly-2.4.2.min']\n",
       "            }\n",
       "        });\n",
       "        require(['plotly'], function(Plotly) {\n",
       "            window._Plotly = Plotly;\n",
       "        });\n",
       "        }\n",
       "        </script>\n",
       "        "
      ]
     },
     "metadata": {},
     "output_type": "display_data"
    }
   ],
   "source": [
    "# for basic operations\n",
    "import numpy as np\n",
    "import pandas as pd\n",
    "import pandas_profiling\n",
    "\n",
    "# for data visualizations\n",
    "import matplotlib.pyplot as plt\n",
    "import seaborn as sns\n",
    "\n",
    "# for advanced visualizations \n",
    "import plotly.offline as py\n",
    "from plotly.offline import init_notebook_mode, iplot\n",
    "import plotly.graph_objs as go\n",
    "init_notebook_mode(connected = True)\n",
    "from bubbly.bubbly import bubbleplot\n",
    "import warnings\n",
    "import statsmodels.api as sm\n",
    "\n",
    "# for data-preprocessing and feature scaling\n",
    "from sklearn.model_selection import train_test_split\n",
    "from sklearn.preprocessing import StandardScaler\n",
    "from sklearn.linear_model import LogisticRegression\n",
    "from sklearn.tree import DecisionTreeClassifier\n",
    "from sklearn.ensemble import RandomForestClassifier\n",
    "from sklearn.metrics import confusion_matrix\n",
    "from sklearn.metrics import classification_report\n",
    "from sklearn.metrics import roc_curve\n",
    "from sklearn.metrics import auc\n"
   ]
  },
  {
   "cell_type": "markdown",
   "id": "53393d22",
   "metadata": {},
   "source": [
    "\n",
    "DATA SET DESCRIPTION\n",
    "Set Characteristics : Multivariate\n",
    "Attribute Characteristics : Categorical, Integer, Real\n",
    "Associated Tasks : Classification\n",
    "Data Set Information\n",
    "It is a Clevelant Dadabase. It contains 76 attributes , but all published experiments refer to using a subset of 14 attributes of them.\n",
    "It is a Heart Disease Analysis of 303 persons which inclide their age, sex and all the basic health related experimental data(like cholestrol, fasting blood sugar etc) to analysis their Heart Perforamnce The \"goal\" field refers to the presence of heart disease in the patient. It is integer valued from 0 (no presence) to 4.\n",
    "Experiments with the Cleveland database have concentrated on simply attempting to distinguish presence (values 1,2,3,4) from absence (value 0).\n",
    "\n",
    "column name : Description\n",
    "\n",
    "age : The person's age in years\n",
    "\n",
    "sex : The person's sex (1 = male, 0 = female)\n",
    "\n",
    "cp : The chest pain experienced (Value 1: typical angina, Value 2: atypical angina, Value 3: non-anginal pain, Value 4: asymptomatic)\n",
    "\n",
    "trestbps : The person's resting blood pressure (mm Hg on admission to the hospital)\n",
    "    \n",
    "column name : Description\n",
    "\n",
    "age : The person's age in years\n",
    "\n",
    "sex : The person's sex (1 = male, 0 = female)\n",
    "\n",
    "cp : The chest pain experienced (Value 1: typical angina, Value 2: atypical angina, Value 3: non-anginal pain, Value 4: asymptomatic)\n",
    "\n",
    "trestbps : The person's resting blood pressure (mm Hg on admission to the hospital)\n",
    "\n",
    "chol : The person's cholesterol measurement in mg/dl\n",
    "\n",
    "fbs : The person's fasting blood sugar (> 120 mg/dl, 1 = true; 0 = false)\n",
    "\n",
    "restecg : Resting electrocardiographic measurement (0 = normal, 1 = having ST-T wave abnormality, 2 = showing probable or definite left ventricular hypertrophy by Estes' criteria)\n",
    "\n",
    "thalach : The person's maximum heart rate achieved\n",
    "\n",
    "exang : Exercise induced angina (1 = yes; 0 = no)\n",
    "\n",
    "oldpeak : ST depression induced by exercise relative to rest ('ST' relates to positions on the ECG plot. See more here)\n",
    "\n",
    "slope : the slope of the peak exercise ST segment (Value 1: upsloping, Value 2: flat, Value 3: downsloping)\n",
    "\n",
    "ca : The number of major vessels (0-3)\n",
    "\n",
    "thal : A blood disorder called thalassemia (3 = normal; 6 = fixed defect; 7 = reversable defect)\n",
    "\n",
    "target : Heart disease (0 = no, 1 = yes)"
   ]
  },
  {
   "cell_type": "markdown",
   "id": "66fa7fb9",
   "metadata": {},
   "source": [
    "## Reading the data"
   ]
  },
  {
   "cell_type": "code",
   "execution_count": 4,
   "id": "bdcae4f7",
   "metadata": {},
   "outputs": [
    {
     "data": {
      "text/html": [
       "<div>\n",
       "<style scoped>\n",
       "    .dataframe tbody tr th:only-of-type {\n",
       "        vertical-align: middle;\n",
       "    }\n",
       "\n",
       "    .dataframe tbody tr th {\n",
       "        vertical-align: top;\n",
       "    }\n",
       "\n",
       "    .dataframe thead th {\n",
       "        text-align: right;\n",
       "    }\n",
       "</style>\n",
       "<table border=\"1\" class=\"dataframe\">\n",
       "  <thead>\n",
       "    <tr style=\"text-align: right;\">\n",
       "      <th></th>\n",
       "      <th>age</th>\n",
       "      <th>sex</th>\n",
       "      <th>cp</th>\n",
       "      <th>trestbps</th>\n",
       "      <th>chol</th>\n",
       "      <th>fbs</th>\n",
       "      <th>restecg</th>\n",
       "      <th>thalach</th>\n",
       "      <th>exang</th>\n",
       "      <th>oldpeak</th>\n",
       "      <th>slope</th>\n",
       "      <th>ca</th>\n",
       "      <th>thal</th>\n",
       "      <th>target</th>\n",
       "    </tr>\n",
       "  </thead>\n",
       "  <tbody>\n",
       "    <tr>\n",
       "      <th>0</th>\n",
       "      <td>63</td>\n",
       "      <td>1</td>\n",
       "      <td>3</td>\n",
       "      <td>145</td>\n",
       "      <td>233</td>\n",
       "      <td>1</td>\n",
       "      <td>0</td>\n",
       "      <td>150</td>\n",
       "      <td>0</td>\n",
       "      <td>2.3</td>\n",
       "      <td>0</td>\n",
       "      <td>0</td>\n",
       "      <td>1</td>\n",
       "      <td>1</td>\n",
       "    </tr>\n",
       "    <tr>\n",
       "      <th>1</th>\n",
       "      <td>37</td>\n",
       "      <td>1</td>\n",
       "      <td>2</td>\n",
       "      <td>130</td>\n",
       "      <td>250</td>\n",
       "      <td>0</td>\n",
       "      <td>1</td>\n",
       "      <td>187</td>\n",
       "      <td>0</td>\n",
       "      <td>3.5</td>\n",
       "      <td>0</td>\n",
       "      <td>0</td>\n",
       "      <td>2</td>\n",
       "      <td>1</td>\n",
       "    </tr>\n",
       "    <tr>\n",
       "      <th>2</th>\n",
       "      <td>41</td>\n",
       "      <td>0</td>\n",
       "      <td>1</td>\n",
       "      <td>130</td>\n",
       "      <td>204</td>\n",
       "      <td>0</td>\n",
       "      <td>0</td>\n",
       "      <td>172</td>\n",
       "      <td>0</td>\n",
       "      <td>1.4</td>\n",
       "      <td>2</td>\n",
       "      <td>0</td>\n",
       "      <td>2</td>\n",
       "      <td>1</td>\n",
       "    </tr>\n",
       "    <tr>\n",
       "      <th>3</th>\n",
       "      <td>56</td>\n",
       "      <td>1</td>\n",
       "      <td>1</td>\n",
       "      <td>120</td>\n",
       "      <td>236</td>\n",
       "      <td>0</td>\n",
       "      <td>1</td>\n",
       "      <td>178</td>\n",
       "      <td>0</td>\n",
       "      <td>0.8</td>\n",
       "      <td>2</td>\n",
       "      <td>0</td>\n",
       "      <td>2</td>\n",
       "      <td>1</td>\n",
       "    </tr>\n",
       "    <tr>\n",
       "      <th>4</th>\n",
       "      <td>57</td>\n",
       "      <td>0</td>\n",
       "      <td>0</td>\n",
       "      <td>120</td>\n",
       "      <td>354</td>\n",
       "      <td>0</td>\n",
       "      <td>1</td>\n",
       "      <td>163</td>\n",
       "      <td>1</td>\n",
       "      <td>0.6</td>\n",
       "      <td>2</td>\n",
       "      <td>0</td>\n",
       "      <td>2</td>\n",
       "      <td>1</td>\n",
       "    </tr>\n",
       "    <tr>\n",
       "      <th>...</th>\n",
       "      <td>...</td>\n",
       "      <td>...</td>\n",
       "      <td>...</td>\n",
       "      <td>...</td>\n",
       "      <td>...</td>\n",
       "      <td>...</td>\n",
       "      <td>...</td>\n",
       "      <td>...</td>\n",
       "      <td>...</td>\n",
       "      <td>...</td>\n",
       "      <td>...</td>\n",
       "      <td>...</td>\n",
       "      <td>...</td>\n",
       "      <td>...</td>\n",
       "    </tr>\n",
       "    <tr>\n",
       "      <th>298</th>\n",
       "      <td>57</td>\n",
       "      <td>0</td>\n",
       "      <td>0</td>\n",
       "      <td>140</td>\n",
       "      <td>241</td>\n",
       "      <td>0</td>\n",
       "      <td>1</td>\n",
       "      <td>123</td>\n",
       "      <td>1</td>\n",
       "      <td>0.2</td>\n",
       "      <td>1</td>\n",
       "      <td>0</td>\n",
       "      <td>3</td>\n",
       "      <td>0</td>\n",
       "    </tr>\n",
       "    <tr>\n",
       "      <th>299</th>\n",
       "      <td>45</td>\n",
       "      <td>1</td>\n",
       "      <td>3</td>\n",
       "      <td>110</td>\n",
       "      <td>264</td>\n",
       "      <td>0</td>\n",
       "      <td>1</td>\n",
       "      <td>132</td>\n",
       "      <td>0</td>\n",
       "      <td>1.2</td>\n",
       "      <td>1</td>\n",
       "      <td>0</td>\n",
       "      <td>3</td>\n",
       "      <td>0</td>\n",
       "    </tr>\n",
       "    <tr>\n",
       "      <th>300</th>\n",
       "      <td>68</td>\n",
       "      <td>1</td>\n",
       "      <td>0</td>\n",
       "      <td>144</td>\n",
       "      <td>193</td>\n",
       "      <td>1</td>\n",
       "      <td>1</td>\n",
       "      <td>141</td>\n",
       "      <td>0</td>\n",
       "      <td>3.4</td>\n",
       "      <td>1</td>\n",
       "      <td>2</td>\n",
       "      <td>3</td>\n",
       "      <td>0</td>\n",
       "    </tr>\n",
       "    <tr>\n",
       "      <th>301</th>\n",
       "      <td>57</td>\n",
       "      <td>1</td>\n",
       "      <td>0</td>\n",
       "      <td>130</td>\n",
       "      <td>131</td>\n",
       "      <td>0</td>\n",
       "      <td>1</td>\n",
       "      <td>115</td>\n",
       "      <td>1</td>\n",
       "      <td>1.2</td>\n",
       "      <td>1</td>\n",
       "      <td>1</td>\n",
       "      <td>3</td>\n",
       "      <td>0</td>\n",
       "    </tr>\n",
       "    <tr>\n",
       "      <th>302</th>\n",
       "      <td>57</td>\n",
       "      <td>0</td>\n",
       "      <td>1</td>\n",
       "      <td>130</td>\n",
       "      <td>236</td>\n",
       "      <td>0</td>\n",
       "      <td>0</td>\n",
       "      <td>174</td>\n",
       "      <td>0</td>\n",
       "      <td>0.0</td>\n",
       "      <td>1</td>\n",
       "      <td>1</td>\n",
       "      <td>2</td>\n",
       "      <td>0</td>\n",
       "    </tr>\n",
       "  </tbody>\n",
       "</table>\n",
       "<p>303 rows × 14 columns</p>\n",
       "</div>"
      ],
      "text/plain": [
       "     age  sex  cp  trestbps  chol  fbs  restecg  thalach  exang  oldpeak  \\\n",
       "0     63    1   3       145   233    1        0      150      0      2.3   \n",
       "1     37    1   2       130   250    0        1      187      0      3.5   \n",
       "2     41    0   1       130   204    0        0      172      0      1.4   \n",
       "3     56    1   1       120   236    0        1      178      0      0.8   \n",
       "4     57    0   0       120   354    0        1      163      1      0.6   \n",
       "..   ...  ...  ..       ...   ...  ...      ...      ...    ...      ...   \n",
       "298   57    0   0       140   241    0        1      123      1      0.2   \n",
       "299   45    1   3       110   264    0        1      132      0      1.2   \n",
       "300   68    1   0       144   193    1        1      141      0      3.4   \n",
       "301   57    1   0       130   131    0        1      115      1      1.2   \n",
       "302   57    0   1       130   236    0        0      174      0      0.0   \n",
       "\n",
       "     slope  ca  thal  target  \n",
       "0        0   0     1       1  \n",
       "1        0   0     2       1  \n",
       "2        2   0     2       1  \n",
       "3        2   0     2       1  \n",
       "4        2   0     2       1  \n",
       "..     ...  ..   ...     ...  \n",
       "298      1   0     3       0  \n",
       "299      1   0     3       0  \n",
       "300      1   2     3       0  \n",
       "301      1   1     3       0  \n",
       "302      1   1     2       0  \n",
       "\n",
       "[303 rows x 14 columns]"
      ]
     },
     "execution_count": 4,
     "metadata": {},
     "output_type": "execute_result"
    }
   ],
   "source": [
    "data = pd.read_csv('heart.csv')\n",
    "data"
   ]
  },
  {
   "cell_type": "code",
   "execution_count": 5,
   "id": "3c901961",
   "metadata": {},
   "outputs": [
    {
     "data": {
      "text/plain": [
       "(303, 14)"
      ]
     },
     "execution_count": 5,
     "metadata": {},
     "output_type": "execute_result"
    }
   ],
   "source": [
    "# getting the shape\n",
    "data.shape"
   ]
  },
  {
   "cell_type": "code",
   "execution_count": 7,
   "id": "b670b37f",
   "metadata": {},
   "outputs": [
    {
     "data": {
      "text/html": [
       "<div>\n",
       "<style scoped>\n",
       "    .dataframe tbody tr th:only-of-type {\n",
       "        vertical-align: middle;\n",
       "    }\n",
       "\n",
       "    .dataframe tbody tr th {\n",
       "        vertical-align: top;\n",
       "    }\n",
       "\n",
       "    .dataframe thead th {\n",
       "        text-align: right;\n",
       "    }\n",
       "</style>\n",
       "<table border=\"1\" class=\"dataframe\">\n",
       "  <thead>\n",
       "    <tr style=\"text-align: right;\">\n",
       "      <th></th>\n",
       "      <th>age</th>\n",
       "      <th>sex</th>\n",
       "      <th>cp</th>\n",
       "      <th>trestbps</th>\n",
       "      <th>chol</th>\n",
       "      <th>fbs</th>\n",
       "      <th>restecg</th>\n",
       "      <th>thalach</th>\n",
       "      <th>exang</th>\n",
       "      <th>oldpeak</th>\n",
       "      <th>slope</th>\n",
       "      <th>ca</th>\n",
       "      <th>thal</th>\n",
       "      <th>target</th>\n",
       "    </tr>\n",
       "  </thead>\n",
       "  <tbody>\n",
       "    <tr>\n",
       "      <th>0</th>\n",
       "      <td>63</td>\n",
       "      <td>1</td>\n",
       "      <td>3</td>\n",
       "      <td>145</td>\n",
       "      <td>233</td>\n",
       "      <td>1</td>\n",
       "      <td>0</td>\n",
       "      <td>150</td>\n",
       "      <td>0</td>\n",
       "      <td>2.3</td>\n",
       "      <td>0</td>\n",
       "      <td>0</td>\n",
       "      <td>1</td>\n",
       "      <td>1</td>\n",
       "    </tr>\n",
       "    <tr>\n",
       "      <th>1</th>\n",
       "      <td>37</td>\n",
       "      <td>1</td>\n",
       "      <td>2</td>\n",
       "      <td>130</td>\n",
       "      <td>250</td>\n",
       "      <td>0</td>\n",
       "      <td>1</td>\n",
       "      <td>187</td>\n",
       "      <td>0</td>\n",
       "      <td>3.5</td>\n",
       "      <td>0</td>\n",
       "      <td>0</td>\n",
       "      <td>2</td>\n",
       "      <td>1</td>\n",
       "    </tr>\n",
       "    <tr>\n",
       "      <th>2</th>\n",
       "      <td>41</td>\n",
       "      <td>0</td>\n",
       "      <td>1</td>\n",
       "      <td>130</td>\n",
       "      <td>204</td>\n",
       "      <td>0</td>\n",
       "      <td>0</td>\n",
       "      <td>172</td>\n",
       "      <td>0</td>\n",
       "      <td>1.4</td>\n",
       "      <td>2</td>\n",
       "      <td>0</td>\n",
       "      <td>2</td>\n",
       "      <td>1</td>\n",
       "    </tr>\n",
       "    <tr>\n",
       "      <th>3</th>\n",
       "      <td>56</td>\n",
       "      <td>1</td>\n",
       "      <td>1</td>\n",
       "      <td>120</td>\n",
       "      <td>236</td>\n",
       "      <td>0</td>\n",
       "      <td>1</td>\n",
       "      <td>178</td>\n",
       "      <td>0</td>\n",
       "      <td>0.8</td>\n",
       "      <td>2</td>\n",
       "      <td>0</td>\n",
       "      <td>2</td>\n",
       "      <td>1</td>\n",
       "    </tr>\n",
       "    <tr>\n",
       "      <th>4</th>\n",
       "      <td>57</td>\n",
       "      <td>0</td>\n",
       "      <td>0</td>\n",
       "      <td>120</td>\n",
       "      <td>354</td>\n",
       "      <td>0</td>\n",
       "      <td>1</td>\n",
       "      <td>163</td>\n",
       "      <td>1</td>\n",
       "      <td>0.6</td>\n",
       "      <td>2</td>\n",
       "      <td>0</td>\n",
       "      <td>2</td>\n",
       "      <td>1</td>\n",
       "    </tr>\n",
       "  </tbody>\n",
       "</table>\n",
       "</div>"
      ],
      "text/plain": [
       "   age  sex  cp  trestbps  chol  fbs  restecg  thalach  exang  oldpeak  slope  \\\n",
       "0   63    1   3       145   233    1        0      150      0      2.3      0   \n",
       "1   37    1   2       130   250    0        1      187      0      3.5      0   \n",
       "2   41    0   1       130   204    0        0      172      0      1.4      2   \n",
       "3   56    1   1       120   236    0        1      178      0      0.8      2   \n",
       "4   57    0   0       120   354    0        1      163      1      0.6      2   \n",
       "\n",
       "   ca  thal  target  \n",
       "0   0     1       1  \n",
       "1   0     2       1  \n",
       "2   0     2       1  \n",
       "3   0     2       1  \n",
       "4   0     2       1  "
      ]
     },
     "execution_count": 7,
     "metadata": {},
     "output_type": "execute_result"
    }
   ],
   "source": [
    "# reading the head of the data\n",
    "data.head()"
   ]
  },
  {
   "cell_type": "markdown",
   "id": "a6886a44",
   "metadata": {},
   "source": [
    "## DATA PREPROCESSING"
   ]
  },
  {
   "cell_type": "code",
   "execution_count": null,
   "id": "6343d343",
   "metadata": {},
   "outputs": [],
   "source": [
    "# describing the data\n",
    "data.describe(include='all')"
   ]
  },
  {
   "cell_type": "code",
   "execution_count": null,
   "id": "ae9cd065",
   "metadata": {},
   "outputs": [],
   "source": [
    "#no. of rows\n",
    "print('No. of records',data.shape[0])"
   ]
  },
  {
   "cell_type": "code",
   "execution_count": null,
   "id": "815a8d5d",
   "metadata": {},
   "outputs": [],
   "source": [
    "#no. of columns\n",
    "print('No. of columns',data.shape[1])"
   ]
  },
  {
   "cell_type": "code",
   "execution_count": null,
   "id": "572516e0",
   "metadata": {},
   "outputs": [],
   "source": [
    "# computer memory used by dataframe in bytes\n",
    "used_pc_memory = data.memory_usage(deep=True).sum()\n",
    "used_pc_memory = used_pc_memory/(1000*1000)\n",
    "print('This data frame is using {0:.2f} MB computer memory'.format(used_pc_memory))"
   ]
  },
  {
   "cell_type": "code",
   "execution_count": null,
   "id": "695bf40e",
   "metadata": {},
   "outputs": [],
   "source": [
    "# removing duplicate rows\n",
    "data.drop_duplicates(inplace=True)\n",
    "data.shape"
   ]
  },
  {
   "cell_type": "code",
   "execution_count": null,
   "id": "8df77468",
   "metadata": {},
   "outputs": [],
   "source": [
    "# creating column name's list\n",
    "col = data.columns.to_list()\n",
    "\n",
    "# printing number of unique values in each column.\n",
    "data.nunique()"
   ]
  },
  {
   "cell_type": "markdown",
   "id": "8a6e30d4",
   "metadata": {},
   "source": [
    "## CREATING CATEGORICAL COLUMN"
   ]
  },
  {
   "cell_type": "code",
   "execution_count": null,
   "id": "49cc331b",
   "metadata": {},
   "outputs": [],
   "source": [
    "# creating catagorical columns name list\n",
    "catcol = [_ for _ in col if data[_].nunique() < 30]\n",
    "\n",
    "# printing all the unique values of categorical colum\n",
    "for _ in catcol:\n",
    "    print('{} has {} unique value/s - {}\\n'.format(_,data[_].nunique(),data[_].unique()))"
   ]
  },
  {
   "cell_type": "markdown",
   "id": "272b207d",
   "metadata": {},
   "source": [
    "## HANDLING MISSING VALUES"
   ]
  },
  {
   "cell_type": "code",
   "execution_count": null,
   "id": "f40250ba",
   "metadata": {},
   "outputs": [],
   "source": [
    "# checking the null or missing values in dataframe\n",
    "plt.figure(figsize=(10,10))\n",
    "sns.heatmap(data=data.isna(),yticklabels=False,cbar=False,cmap='Set3')\n",
    "plt.show()\n",
    "\n",
    "# columns information\n",
    "data.info()"
   ]
  },
  {
   "cell_type": "markdown",
   "id": "8e0c851a",
   "metadata": {},
   "source": [
    "There are NO MISSING VALUES in the Data Set"
   ]
  },
  {
   "cell_type": "markdown",
   "id": "9e5f2515",
   "metadata": {},
   "source": [
    "## OUTLIER ANALYSIS"
   ]
  },
  {
   "cell_type": "code",
   "execution_count": null,
   "id": "21a2ff26",
   "metadata": {},
   "outputs": [],
   "source": [
    "# to check for presence of an outlier\n",
    "sns.heatmap(data.isnull(),yticklabels=False,cbar=False,cmap='viridis')\n",
    "sns.boxplot(data =data).set_title(\"Outlier Box Plot\")"
   ]
  },
  {
   "cell_type": "markdown",
   "id": "e2435a4c",
   "metadata": {},
   "source": [
    "There is NO SIGNIFICANT OUTLIER present in the Data Set."
   ]
  },
  {
   "cell_type": "markdown",
   "id": "3ce8aea4",
   "metadata": {},
   "source": [
    "## DATA PROFILLING"
   ]
  },
  {
   "cell_type": "code",
   "execution_count": null,
   "id": "0f174cef",
   "metadata": {},
   "outputs": [],
   "source": [
    "profile = pandas_profiling.ProfileReport(data)\n",
    "profile"
   ]
  },
  {
   "cell_type": "markdown",
   "id": "aefcb102",
   "metadata": {},
   "source": [
    "## DATA VISUALISATION"
   ]
  },
  {
   "cell_type": "code",
   "execution_count": null,
   "id": "a8f865fa",
   "metadata": {},
   "outputs": [],
   "source": [
    "warnings.filterwarnings('ignore')\n",
    "\n",
    "figure = bubbleplot(dataset = data, x_column = 'trestbps', y_column = 'chol', \n",
    "    bubble_column = 'sex', time_column = 'age', size_column = 'oldpeak', color_column = 'sex', \n",
    "    x_title = \"Resting Blood Pressure\", y_title = \"Cholestrol\", title = 'BP vs Chol. vs Age vs Sex vs Heart Rate',\n",
    "    x_logscale = False, scale_bubble = 3, height = 650)\n",
    "\n",
    "py.iplot(figure, config={'scrollzoom': True})"
   ]
  },
  {
   "cell_type": "code",
   "execution_count": null,
   "id": "a2aadfe6",
   "metadata": {},
   "outputs": [],
   "source": [
    "plt.rcParams['figure.figsize'] = (20, 15)\n",
    "plt.style.use('ggplot')\n",
    "\n",
    "sns.heatmap(data.corr(), annot = True, cmap = 'Wistia')\n",
    "plt.title('Heatmap for the Dataset', fontsize = 20)\n",
    "plt.show()"
   ]
  },
  {
   "cell_type": "markdown",
   "id": "d09751d0",
   "metadata": {},
   "source": [
    "The above heat map is to show the correlations amongst the different attributes of the given dataset. The above Heat Map shows that almost all of the features/attributes given in the dataset are very less correlated with each other. This implies we must include all of the features, as we can only eliminate those features where the correlation of two or more features are very high."
   ]
  },
  {
   "cell_type": "code",
   "execution_count": null,
   "id": "e8ee9562",
   "metadata": {},
   "outputs": [],
   "source": [
    "warnings.filterwarnings('ignore')\n",
    "\n",
    "plt.style.use('fivethirtyeight')\n",
    "plt.rcParams['figure.figsize'] = (15, 5)\n",
    "sns.distplot(data['age'], color = 'cyan')\n",
    "plt.title('Distribution of Age', fontsize = 20)\n",
    "plt.show()"
   ]
  },
  {
   "cell_type": "markdown",
   "id": "165c9533",
   "metadata": {},
   "source": [
    "The above Distribution plot shows the distribution of Age amongst all of the entries in the dataset about the heart patients. The Graph suggests that the highest number of people suffering from heart diseases are in the age group of 55-65 years. The patients in the age group 20-30 are very less likely to suffer from heart diseases.\n",
    "\n",
    "As we know that the number of people in the age group 65-80 has a very low population, hence distribution is also less. we might have to opt for other plots to investigate further and get some more intuitive results."
   ]
  },
  {
   "cell_type": "code",
   "execution_count": null,
   "id": "090e6cce",
   "metadata": {},
   "outputs": [],
   "source": [
    "# plotting a donut chart for visualizing each of the recruitment channel's share\n",
    "\n",
    "size = data['sex'].value_counts()\n",
    "colors = ['lightblue', 'lightgreen']\n",
    "labels = \"Male\", \"Female\"\n",
    "explode = [0, 0.01]\n",
    "\n",
    "my_circle = plt.Circle((0, 0), 0.7, color = 'white')\n",
    "\n",
    "plt.rcParams['figure.figsize'] = (9, 9)\n",
    "plt.pie(size, colors = colors, labels = labels, shadow = True, explode = explode, autopct = '%.2f%%')\n",
    "plt.title('Distribution of Gender', fontsize = 20)\n",
    "p = plt.gcf()\n",
    "p.gca().add_artist(my_circle)\n",
    "plt.legend()\n",
    "plt.show()"
   ]
  },
  {
   "cell_type": "markdown",
   "id": "c6db136e",
   "metadata": {},
   "source": [
    "\n",
    "The above Pie chart, whhich shows us the distribution of Gender in the Heart diseases. By looking at the plot, we can assume that Males are two times more likely to suffer from heart diseases in comparison to females.\n",
    "\n",
    "According to our study, From all the Entries in our dataset 68% of the patients are men whereas only 32% are women. More number of men took participation in heart disease check ups."
   ]
  },
  {
   "cell_type": "code",
   "execution_count": null,
   "id": "9a2f1c39",
   "metadata": {},
   "outputs": [],
   "source": [
    "# cholestrol vs target\n",
    "\n",
    "plt.rcParams['figure.figsize'] = (12, 9)\n",
    "sns.violinplot(data['target'], data['chol'], palette = 'colorblind')\n",
    "plt.title('Relation of Cholestrol with Target', fontsize = 20, fontweight = 30)\n",
    "plt.show()\n"
   ]
  },
  {
   "cell_type": "markdown",
   "id": "880c02f5",
   "metadata": {},
   "source": [
    "The above Bivariate plot between cholestrol levels and target suggests that the Patients likely to suffer from heart diseases are having higher cholestrol levels in comparison to the patients with target 0(likely to not suffer from the heart diseases.\n",
    "\n",
    "Hence, we can infer from the above plot that the cholestrol levels plays an important role in determining heart diseases. We all must keep our cholestrol levels in control as possible."
   ]
  },
  {
   "cell_type": "code",
   "execution_count": null,
   "id": "c83a3a5b",
   "metadata": {},
   "outputs": [],
   "source": [
    "# Resting electrocardiographic measurement vs target\n",
    "  \n",
    "plt.rcParams['figure.figsize'] = (12, 9)\n",
    "dat = pd.crosstab(data['target'], data['restecg']) \n",
    "dat.div(dat.sum(1).astype(float), axis = 0).plot(kind = 'bar', \n",
    "                                                 stacked = False, \n",
    "                                                 color = plt.cm.rainbow(np.linspace(0, 1, 4)))\n",
    "plt.title('Relation of ECG measurement with Target', fontsize = 20, fontweight = 30)\n",
    "plt.show()"
   ]
  },
  {
   "cell_type": "markdown",
   "id": "838995be",
   "metadata": {},
   "source": [
    "The above plot is column bar chart representing target vs ECG Measurements(Electro Cardio Gram), The above plot shows that the more number of patients not likely to suffer from heart diseases are having restscg value 0 whereas more number of people have restecg value 1 in case of more likelihood of suffering from a heart disease.\n",
    "\n",
    "This Heat Map, between Target and Maximum Heart Rate shows that the patients who are likely to suffer from heart diseases are having higher maximum heart rates whereas the patients who are not likely to suffer from any heart diseases are having lower maximum heart rates.\n",
    "\n",
    "This implies it is very important to keep our heart rates low, to keep ourselves healthy and safe from any dangerous heart diseases."
   ]
  },
  {
   "cell_type": "code",
   "execution_count": null,
   "id": "405b566b",
   "metadata": {},
   "outputs": [],
   "source": [
    "# checking the relation between \n",
    "#thal: A blood disorder called thalassemia (3 = normal; 6 = fixed defect; 7 = reversable defect)\n",
    "\n",
    "sns.boxenplot(data['target'], data['thal'], palette = 'magma')\n",
    "plt.title('Relation between Target and Blood disorder-Thalessemia', fontsize = 20, fontweight = 30)\n",
    "plt.show()"
   ]
  },
  {
   "cell_type": "markdown",
   "id": "761c2d16",
   "metadata": {},
   "source": [
    "\n",
    "In the above Boxen plot between Target and a Blood disorder called Thalessemia, It can be easily inferred that the patients suffering from heart diseases have low chances of also suffering from thalessemia in comparison to the patients who are less likely to suffer from the heart diseases. Hence, It is also a good feature to classify heart diseases."
   ]
  },
  {
   "cell_type": "code",
   "execution_count": null,
   "id": "d6d30ef9",
   "metadata": {},
   "outputs": [],
   "source": [
    "trace = go.Scatter3d(\n",
    "    x = data['chol'],\n",
    "    y = data['trestbps'],\n",
    "    z = data['age'],\n",
    "    name = 'Marvel',\n",
    "    mode = 'markers',\n",
    "    marker = dict(\n",
    "         size = 10,\n",
    "         color = data['age']\n",
    "    )\n",
    ")\n",
    "\n",
    "df = [trace]\n",
    "\n",
    "layout = go.Layout(\n",
    "    title = 'Cholestrol vs Heart Rate vs Age',\n",
    "    margin=dict(\n",
    "        l=0,\n",
    "        r=0,\n",
    "        b=0,\n",
    "        t=0  \n",
    "    ),\n",
    "    scene = dict(\n",
    "            xaxis = dict(title  = 'Cholestrol'),\n",
    "            yaxis = dict(title  = 'Heart Rate'),\n",
    "            zaxis = dict(title  = 'Age')\n",
    "        )\n",
    "    \n",
    ")\n",
    "fig = go.Figure(data = df, layout=layout)\n",
    "py.iplot(fig)"
   ]
  },
  {
   "cell_type": "markdown",
   "id": "124f4be6",
   "metadata": {},
   "source": [
    "## CHANGING COLUMN NAMES"
   ]
  },
  {
   "cell_type": "code",
   "execution_count": null,
   "id": "6f94ec43",
   "metadata": {},
   "outputs": [],
   "source": [
    "# let's change the names of the  columns for better understanding\n",
    "\n",
    "data.columns = ['age', 'sex', 'chest_pain_type', 'resting_blood_pressure', 'cholesterol', 'fasting_blood_sugar', 'rest_ecg', 'max_heart_rate_achieved',\n",
    "       'exercise_induced_angina', 'st_depression', 'st_slope', 'num_major_vessels', 'thalassemia', 'target']\n",
    "\n",
    "data.columns"
   ]
  },
  {
   "cell_type": "code",
   "execution_count": null,
   "id": "5ef94417",
   "metadata": {},
   "outputs": [],
   "source": [
    "data['sex'][data['sex'] == 0] = 'female'\n",
    "data['sex'][data['sex'] == 1] = 'male'\n",
    "\n",
    "data['chest_pain_type'][data['chest_pain_type'] == 1] = 'typical angina'\n",
    "data['chest_pain_type'][data['chest_pain_type'] == 2] = 'atypical angina'\n",
    "data['chest_pain_type'][data['chest_pain_type'] == 3] = 'non-anginal pain'\n",
    "data['chest_pain_type'][data['chest_pain_type'] == 4] = 'asymptomatic'\n",
    "\n",
    "data['fasting_blood_sugar'][data['fasting_blood_sugar'] == 0] = 'lower than 120mg/ml'\n",
    "data['fasting_blood_sugar'][data['fasting_blood_sugar'] == 1] = 'greater than 120mg/ml'\n",
    "\n",
    "data['rest_ecg'][data['rest_ecg'] == 0] = 'normal'\n",
    "data['rest_ecg'][data['rest_ecg'] == 1] = 'ST-T wave abnormality'\n",
    "data['rest_ecg'][data['rest_ecg'] == 2] = 'left ventricular hypertrophy'\n",
    "\n",
    "data['exercise_induced_angina'][data['exercise_induced_angina'] == 0] = 'no'\n",
    "data['exercise_induced_angina'][data['exercise_induced_angina'] == 1] = 'yes'\n",
    "\n",
    "data['st_slope'][data['st_slope'] == 1] = 'upsloping'\n",
    "data['st_slope'][data['st_slope'] == 2] = 'flat'\n",
    "data['st_slope'][data['st_slope'] == 3] = 'downsloping'\n",
    "\n",
    "data['thalassemia'][data['thalassemia'] == 1] = 'normal'\n",
    "data['thalassemia'][data['thalassemia'] == 2] = 'fixed defect'\n",
    "data['thalassemia'][data['thalassemia'] == 3] = 'reversable defect'"
   ]
  },
  {
   "cell_type": "code",
   "execution_count": null,
   "id": "db4ebe6a",
   "metadata": {},
   "outputs": [],
   "source": [
    "data['sex'] = data['sex'].astype('object')\n",
    "data['chest_pain_type'] = data['chest_pain_type'].astype('object')\n",
    "data['fasting_blood_sugar'] = data['fasting_blood_sugar'].astype('object')\n",
    "data['rest_ecg'] = data['rest_ecg'].astype('object')\n",
    "data['exercise_induced_angina'] = data['exercise_induced_angina'].astype('object')\n",
    "data['st_slope'] = data['st_slope'].astype('object')\n",
    "data['thalassemia'] = data['thalassemia'].astype('object')"
   ]
  },
  {
   "cell_type": "markdown",
   "id": "5122b546",
   "metadata": {},
   "source": [
    "## ONE HOT ENCODING"
   ]
  },
  {
   "cell_type": "code",
   "execution_count": null,
   "id": "9d49bc81",
   "metadata": {},
   "outputs": [],
   "source": [
    "# one hot encoding of the data\n",
    "# drop_first = True, means dropping the first categories from each of the attribues \n",
    "# for ex gender having gender_male and gender-female would be male having values 1 and 0\n",
    "\n",
    "data = pd.get_dummies(data, drop_first=True)"
   ]
  },
  {
   "cell_type": "code",
   "execution_count": null,
   "id": "d8bdc631",
   "metadata": {},
   "outputs": [],
   "source": [
    "# checking the dataset after encoding\n",
    "data.head()"
   ]
  },
  {
   "cell_type": "markdown",
   "id": "bacdcad8",
   "metadata": {},
   "source": [
    "## MODELLING"
   ]
  },
  {
   "cell_type": "markdown",
   "id": "aa748997",
   "metadata": {},
   "source": [
    "### SPLITTING THE DATA SET"
   ]
  },
  {
   "cell_type": "code",
   "execution_count": null,
   "id": "37056153",
   "metadata": {},
   "outputs": [],
   "source": [
    "# taking the labels out from the data\n",
    "\n",
    "y = data['target']\n",
    "\n",
    "data = data.drop('target', axis = 1)\n",
    "\n",
    "print(\"Shape of y:\", y.shape)"
   ]
  },
  {
   "cell_type": "code",
   "execution_count": null,
   "id": "1c9a6357",
   "metadata": {},
   "outputs": [],
   "source": [
    "# splitting the dependent and independent variables from the data\n",
    "\n",
    "x = data\n",
    "\n",
    "# checking the shapes of x and y\n",
    "print(\"Shape of x:\", x.shape)\n",
    "print(\"Shape of y:\", y.shape)"
   ]
  },
  {
   "cell_type": "code",
   "execution_count": null,
   "id": "fc4a8966",
   "metadata": {},
   "outputs": [],
   "source": [
    "y.value_counts()"
   ]
  },
  {
   "cell_type": "markdown",
   "id": "1e3fc465",
   "metadata": {},
   "source": [
    "## TRAINING AND TEST DATA SETS"
   ]
  },
  {
   "cell_type": "code",
   "execution_count": null,
   "id": "d444b871",
   "metadata": {},
   "outputs": [],
   "source": [
    "# splitting the sets into training and test sets\n",
    "x_train, x_test, y_train, y_test = train_test_split(x, y, test_size = 0.3, random_state = 0)\n",
    "\n",
    "#test_size=0.3 means data set divided into 70% and 30%\n",
    "# getting the shapes\n",
    "print(\"Shape of x_train :\", x_train.shape)\n",
    "print(\"Shape of x_test :\", x_test.shape)\n",
    "print(\"Shape of y_train :\", y_train.shape)\n",
    "print(\"Shape of y_test :\", y_test.shape)"
   ]
  },
  {
   "cell_type": "code",
   "execution_count": null,
   "id": "2dff7b3f",
   "metadata": {},
   "outputs": [],
   "source": [
    "#Logistic Regression\n",
    "\n",
    "#Feature Scaling\n",
    "sc = StandardScaler()\n",
    "x_train = sc.fit_transform(x_train)\n",
    "x_test = sc.transform(x_test)\n",
    "\n",
    "model =  LogisticRegression()\n",
    "model.fit(x_train, y_train)\n",
    "y_predict = model.predict(x_test)\n",
    "y_pred_quant = model.predict_proba(x_test)[:, 1]\n",
    "y_pred = model.predict(x_test)\n",
    "\n",
    "# evaluating the model\n",
    "print(\"TRAINING ACCURACY :\", model.score(x_train, y_train))\n",
    "print(\"TESTING ACCURACY :\", model.score(x_test, y_test))\n",
    "\n",
    "# cofusion matrix\n",
    "cm = confusion_matrix(y_test, y_pred)\n",
    "plt.rcParams['figure.figsize'] = (5, 5)\n",
    "sns.heatmap(cm, annot = True, annot_kws = {'size':15}, cmap = 'PuBu')\n",
    "\n",
    "# classification report\n",
    "cr = classification_report(y_test, y_pred)\n",
    "print(cr)\n",
    "\n",
    "# Genarate Reports\n",
    "logit_model=sm.Logit(y_train,x_train)\n",
    "result=logit_model.fit()\n",
    "print(result.summary())\n",
    "print(result.summary2())"
   ]
  },
  {
   "cell_type": "code",
   "execution_count": null,
   "id": "60ddb54b",
   "metadata": {},
   "outputs": [],
   "source": [
    "# Decision Tree Classifier\n",
    "\n",
    "#NO NEED OF FEATURE SCALING\n",
    "#from sklearn.preprocessing import StandardScaler\n",
    "#sc = StandardScaler()\n",
    "#x_train = sc.fit_transform(x_train)\n",
    "#x_test = sc.transform(x_test)\n",
    "\n",
    "from sklearn.tree import DecisionTreeClassifier\n",
    "model = DecisionTreeClassifier(max_depth = 5)\n",
    "model.fit(x_train, y_train)\n",
    "y_predict = model.predict(x_test)\n",
    "y_pred_quant = model.predict_proba(x_test)[:, 1]\n",
    "y_pred = model.predict(x_test)\n",
    "\n",
    "\n",
    "# evaluating the model\n",
    "print(\"TRAINING ACCURACY :\", model.score(x_train, y_train))\n",
    "print(\"TESTING ACCURACY :\", model.score(x_test, y_test))\n",
    "\n",
    "# cofusion matrix\n",
    "from sklearn.metrics import confusion_matrix\n",
    "cm = confusion_matrix(y_test, y_pred)\n",
    "plt.rcParams['figure.figsize'] = (5, 5)\n",
    "sns.heatmap(cm, annot = True, annot_kws = {'size':15}, cmap = 'PuBu')\n",
    "\n",
    "# classification report\n",
    "from sklearn.metrics import classification_report\n",
    "cr = classification_report(y_test, y_pred)\n",
    "print(cr)\n",
    "\n",
    "# Genarate Reports\n",
    "import statsmodels.api as sm\n",
    "logit_model=sm.Logit(y_train,x_train)\n",
    "result=logit_model.fit()\n",
    "print(result.summary())\n",
    "print(result.summary2())"
   ]
  },
  {
   "cell_type": "code",
   "execution_count": null,
   "id": "29fbc9dd",
   "metadata": {},
   "outputs": [],
   "source": [
    "# Random Forest Classifier\n",
    "\n",
    "#NO NEED OF FEATURE SCALING\n",
    "#from sklearn.preprocessing import StandardScaler\n",
    "#sc = StandardScaler()\n",
    "#x_train = sc.fit_transform(x_train)\n",
    "#x_test = sc.transform(x_test)\n",
    "\n",
    "from sklearn.ensemble import RandomForestClassifier\n",
    "model = RandomForestClassifier(n_estimators = 50, max_depth = 5)\n",
    "model.fit(x_train, y_train)\n",
    "y_predict = model.predict(x_test)\n",
    "y_pred_quant = model.predict_proba(x_test)[:, 1]\n",
    "y_pred = model.predict(x_test)\n",
    "\n",
    "# evaluating the model\n",
    "print(\"TRAINING ACCURACY :\", model.score(x_train, y_train))\n",
    "print(\"TESTING ACCURACY :\", model.score(x_test, y_test))\n",
    "\n",
    "# cofusion matrix\n",
    "from sklearn.metrics import confusion_matrix\n",
    "cm = confusion_matrix(y_test, y_pred)\n",
    "plt.rcParams['figure.figsize'] = (5, 5)\n",
    "sns.heatmap(cm, annot = True, annot_kws = {'size':15}, cmap = 'PuBu')\n",
    "\n",
    "# classification report\n",
    "from sklearn.metrics import classification_report\n",
    "cr = classification_report(y_test, y_pred)\n",
    "print(cr)\n",
    "\n",
    "# Genarate Reports\n",
    "import statsmodels.api as sm\n",
    "logit_model=sm.Logit(y_train,x_train)\n",
    "result=logit_model.fit()\n",
    "print(result.summary())\n",
    "print(result.summary2())"
   ]
  },
  {
   "cell_type": "markdown",
   "id": "0bcb566c",
   "metadata": {},
   "source": [
    "## Specificity and Sensitivity"
   ]
  },
  {
   "cell_type": "markdown",
   "id": "5b9c0389",
   "metadata": {},
   "source": [
    "Diagnostic tests are often sold, marketed, cited and used with sensitivity and specificity as the headline metrics. Sensitivity and specificity are defined as,"
   ]
  },
  {
   "cell_type": "markdown",
   "id": "94f0f823",
   "metadata": {},
   "source": [
    "### Sensitivity = TruePositives/TruePositives+FalseNegatives\n",
    "\n",
    "### Specificity = FalseNegatives/FalseNegatives+TruePositives"
   ]
  },
  {
   "cell_type": "code",
   "execution_count": null,
   "id": "a80bd264",
   "metadata": {},
   "outputs": [],
   "source": [
    "total=sum(sum(cm))\n",
    "\n",
    "sensitivity = cm[0,0]/(cm[0,0]+cm[1,0])\n",
    "print('Sensitivity : ', sensitivity )\n",
    "\n",
    "specificity = cm[1,1]/(cm[1,1]+cm[0,1])\n",
    "print('Specificity : ', specificity)"
   ]
  },
  {
   "cell_type": "markdown",
   "id": "89a0ac91",
   "metadata": {},
   "source": [
    "## ROC CURVE"
   ]
  },
  {
   "cell_type": "code",
   "execution_count": null,
   "id": "0eb480d6",
   "metadata": {},
   "outputs": [],
   "source": [
    "fpr, tpr, thresholds = roc_curve(y_test, y_pred_quant)\n",
    "\n",
    "fig, ax = plt.subplots()\n",
    "ax.plot(fpr, tpr)\n",
    "ax.plot([0, 1], [0, 1], transform=ax.transAxes, ls=\"-\", c=\".3\")\n",
    "plt.xlim([0.0, 1.0])\n",
    "plt.ylim([0.0, 1.0])\n",
    "\n",
    "plt.rcParams['figure.figsize'] = (15, 5)\n",
    "plt.title('ROC curve for diabetes classifier', fontweight = 30)\n",
    "plt.xlabel('False Positive Rate (1 - Specificity)')\n",
    "plt.ylabel('True Positive Rate (Sensitivity)')"
   ]
  },
  {
   "cell_type": "markdown",
   "id": "45ebad65",
   "metadata": {},
   "source": [
    "## AUC SCORE"
   ]
  },
  {
   "cell_type": "code",
   "execution_count": null,
   "id": "767c058c",
   "metadata": {},
   "outputs": [],
   "source": [
    "# let's check the auc score\n",
    "\n",
    "auc = auc(fpr, tpr)\n",
    "print(\"AUC Score :\", auc)"
   ]
  },
  {
   "cell_type": "markdown",
   "id": "be6a3ecb",
   "metadata": {},
   "source": [
    "# CONCLUSION :"
   ]
  },
  {
   "cell_type": "markdown",
   "id": "f3d76a6f",
   "metadata": {},
   "source": [
    "In a comparitive study of various models that I have implemented in this Data Set namely Logistic Regression, Decision Tree and Random Forest.\n",
    "It have been proved that RANDOM FOREST is best suitable model for this Data Set with highest level of Accuracy."
   ]
  },
  {
   "cell_type": "markdown",
   "id": "d640fe58",
   "metadata": {},
   "source": [
    "### THANK YOU!!!"
   ]
  }
 ],
 "metadata": {
  "kernelspec": {
   "display_name": "Python 3",
   "language": "python",
   "name": "python3"
  },
  "language_info": {
   "codemirror_mode": {
    "name": "ipython",
    "version": 3
   },
   "file_extension": ".py",
   "mimetype": "text/x-python",
   "name": "python",
   "nbconvert_exporter": "python",
   "pygments_lexer": "ipython3",
   "version": "3.8.10"
  }
 },
 "nbformat": 4,
 "nbformat_minor": 5
}
